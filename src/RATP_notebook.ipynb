{
 "cells": [
  {
   "cell_type": "markdown",
   "metadata": {},
   "source": [
    "# ETUDE DYNAMYQUE DES METROS DE PARIS"
   ]
  },
  {
   "cell_type": "markdown",
   "metadata": {},
   "source": [
    "## Introduction"
   ]
  },
  {
   "cell_type": "markdown",
   "metadata": {},
   "source": [
    "Nous allons faire une étude sur le nombre de personne qui attentte a chaque métros.\n",
    "\n",
    "parametre\n",
    "\n",
    "* nb de personne                                                                              nb\n",
    "* personne qui habite (en temps (0 jamais perssonne 1 trop tous le temps des personne arrive) ar\n",
    "* perssonne qui sort de la gare entre 0 et 1                                                  so\n",
    "* temps d'arriver du metro                                                                    ta\n",
    "* capacité du metro                                                                           cm\n",
    "* temps de la journée                                                                         tj\n",
    "\n",
    "\n",
    "\n",
    "parramettre plus tard\n",
    "* temps pour une perssonne a rentré / sortir"
   ]
  },
  {
   "cell_type": "markdown",
   "metadata": {},
   "source": [
    "### Les importation"
   ]
  },
  {
   "cell_type": "code",
   "execution_count": 199,
   "metadata": {},
   "outputs": [],
   "source": [
    "%matplotlib inline\n",
    "\n",
    "\n",
    "\n",
    "from pylab import *\n",
    "\n",
    "\n",
    "import numpy as np\n",
    "import matplotlib\n",
    "import matplotlib.pyplot as plt"
   ]
  },
  {
   "cell_type": "code",
   "execution_count": 200,
   "metadata": {},
   "outputs": [],
   "source": [
    "#ligne;nom;niem_arret;\n",
    "ar = 0\n",
    "so = 0\n",
    "ta = 2\n",
    "cm = 0.5\n",
    "#tj = compteur\n",
    "\n",
    "#def update():\n",
    "    "
   ]
  },
  {
   "cell_type": "markdown",
   "metadata": {},
   "source": [
    "# initialisation\n",
    "on va commencer par deux gare relier entre elles.  \n",
    "hypothèse :  \n",
    " * deplacement wagon instantané"
   ]
  },
  {
   "cell_type": "code",
   "execution_count": 201,
   "metadata": {},
   "outputs": [],
   "source": [
    "class Station:\n",
    "    def __init__(self, ar, so, ta, cm):\n",
    "        self.ar = ar # % d'arrivant dans la gare\n",
    "        self.so = so # % de partant dans la gare\n",
    "        self.ta = ta # temps entre chaque metro\n",
    "        self.cm = cm # capacité d'un metro\n",
    "        self.nb = 0 # nombre de personne dans le metro\n",
    "        self.t = 0   # initialisatien du temps de la gare\n",
    "        self.next_s = self\n",
    "    \n",
    "    \n",
    "    def update(self): # fonction qui actualise les donnés\n",
    "        if self.so >= np.random.choice(100):\n",
    "            n = np.random.choice(10)\n",
    "            if self.nb - n >= 0:\n",
    "                self.nb = self.nb - n\n",
    "            else:\n",
    "                self.nb = 0\n",
    "        if self.ar >= np.random.choice(100):\n",
    "            self.nb += np.random.choice(10)\n",
    "        self.t += 1\n",
    "        if self.t > ta:\n",
    "            if self.nb >= self.cm:\n",
    "                self.next_s.nb += self.cm\n",
    "                self.nb = self.nb - self.cm\n",
    "            else:\n",
    "                self.next_s.nb += self.nb\n",
    "                self.nb = 0\n",
    "            self.t=0\n",
    "                \n",
    "    \n",
    "    def next_station(self, station):\n",
    "        self.next_s = station"
   ]
  },
  {
   "cell_type": "code",
   "execution_count": 202,
   "metadata": {},
   "outputs": [],
   "source": [
    "nb_step = 24*3600\n",
    "\n",
    "cm = 700\n",
    "\n",
    "ar1 = 50\n",
    "so1 = 20\n",
    "ta1 = 1\n",
    "\n",
    "ar2 = 2\n",
    "so2 = 100\n",
    "ta2 = 5*60\n",
    "\n",
    "List_Gare = []\n",
    "List_Gare.append(Station(ar1, so1, ta1, cm))\n",
    "List_Gare.append(Station(ar2, so2, ta2, cm))\n",
    "List_Gare[0].next_station(List_Gare[1])\n",
    "List_Gare[1].next_station(List_Gare[0])"
   ]
  },
  {
   "cell_type": "markdown",
   "metadata": {
    "collapsed": true
   },
   "source": []
  },
  {
   "cell_type": "code",
   "execution_count": 203,
   "metadata": {},
   "outputs": [],
   "source": [
    "def simulation(L):\n",
    "    time = [] # liste qui represente le temps \n",
    "    nb_tot = []\n",
    "    for i in range(nb_step):\n",
    "        nb = 0\n",
    "        time.append(i)\n",
    "        for j in L:\n",
    "            j.update()\n",
    "        for j in L:\n",
    "            nb += j.nb\n",
    "        nb_tot.append(nb)\n",
    "    #fig, axes = plt.subplots(nrows=1, ncols=2)\n",
    "    #axes[0].plot(time, nb_tot, 'b')\n",
    "    figure()\n",
    "    plot(time, nb_tot, 'b')\n"
   ]
  },
  {
   "cell_type": "code",
   "execution_count": 204,
   "metadata": {},
   "outputs": [
    {
     "data": {
      "image/png": "[encoded data removed]",
      "text/plain": [
       "<matplotlib.figure.Figure at 0x7f79202db160>"
      ]
     },
     "metadata": {},
     "output_type": "display_data"
    }
   ],
   "source": [
    "simulation(List_Gare)\n"
   ]
  },
  {
   "cell_type": "code",
   "execution_count": null,
   "metadata": {
    "collapsed": true
   },
   "outputs": [],
   "source": []
  },
  {
   "cell_type": "code",
   "execution_count": null,
   "metadata": {
    "collapsed": true
   },
   "outputs": [],
   "source": []
  },
  {
   "cell_type": "code",
   "execution_count": null,
   "metadata": {
    "collapsed": true
   },
   "outputs": [],
   "source": []
  },
  {
   "cell_type": "code",
   "execution_count": null,
   "metadata": {
    "collapsed": true
   },
   "outputs": [],
   "source": []
  },
  {
   "cell_type": "code",
   "execution_count": null,
   "metadata": {
    "collapsed": true
   },
   "outputs": [],
   "source": []
  },
  {
   "cell_type": "code",
   "execution_count": null,
   "metadata": {
    "collapsed": true
   },
   "outputs": [],
   "source": []
  },
  {
   "cell_type": "code",
   "execution_count": null,
   "metadata": {
    "collapsed": true
   },
   "outputs": [],
   "source": []
  },
  {
   "cell_type": "code",
   "execution_count": null,
   "metadata": {
    "collapsed": true
   },
   "outputs": [],
   "source": []
  },
  {
   "cell_type": "code",
   "execution_count": null,
   "metadata": {
    "collapsed": true
   },
   "outputs": [],
   "source": []
  },
  {
   "cell_type": "code",
   "execution_count": null,
   "metadata": {
    "collapsed": true
   },
   "outputs": [],
   "source": []
  },
  {
   "cell_type": "code",
   "execution_count": null,
   "metadata": {
    "collapsed": true
   },
   "outputs": [],
   "source": []
  }
 ],
 "metadata": {
  "kernelspec": {
   "display_name": "Python 3",
   "language": "python",
   "name": "python3"
  },
  "language_info": {
   "codemirror_mode": {
    "name": "ipython",
    "version": 3
   },
   "file_extension": ".py",
   "mimetype": "text/x-python",
   "name": "python",
   "nbconvert_exporter": "python",
   "pygments_lexer": "ipython3",
   "version": "3.6.1"
  }
 },
 "nbformat": 4,
 "nbformat_minor": 1
}
