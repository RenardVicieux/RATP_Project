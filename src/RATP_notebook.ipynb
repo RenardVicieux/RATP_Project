{
 "cells": [
  {
   "cell_type": "markdown",
   "metadata": {
    "deletable": true,
    "editable": true
   },
   "source": [
    "# ETUDE DYNAMYQUE DES METROS DE PARIS"
   ]
  },
  {
   "cell_type": "markdown",
   "metadata": {
    "deletable": true,
    "editable": true
   },
   "source": [
    "## Introduction"
   ]
  },
  {
   "cell_type": "markdown",
   "metadata": {
    "deletable": true,
    "editable": true
   },
   "source": [
    "Nous allons faire une étude sur le nombre de personne qui attentte a chaque métros.\n",
    "\n",
    "parametre\n",
    "\n",
    "* nb : nb de personne\n",
    "* ar : % de personne qui arrive \n",
    "* so : % de perssonne qui sort de la gare\n",
    "* ta : temps d'arriver du metro\n",
    "* cm : capacité du metro\n",
    "\n",
    "\n",
    "\n",
    "parramettre plus tard\n",
    "* temps pour une perssonne a rentré / sortir"
   ]
  },
  {
   "cell_type": "markdown",
   "metadata": {
    "deletable": true,
    "editable": true
   },
   "source": [
    "### Les importation"
   ]
  },
  {
   "cell_type": "code",
   "execution_count": 22,
   "metadata": {
    "collapsed": false,
    "deletable": true,
    "editable": true
   },
   "outputs": [],
   "source": [
    "%matplotlib inline\n",
    "\n",
    "from pylab import *\n",
    "\n",
    "import numpy as np\n",
    "import matplotlib\n",
    "import matplotlib.pyplot as plt"
   ]
  },
  {
   "cell_type": "code",
   "execution_count": 23,
   "metadata": {
    "collapsed": true,
    "deletable": true,
    "editable": true
   },
   "outputs": [],
   "source": [
    "#ligne;nom;niem_arret;\n",
    "ar = 0\n",
    "so = 0\n",
    "ta = 2\n",
    "cm = 0.5\n",
    "    "
   ]
  },
  {
   "cell_type": "markdown",
   "metadata": {
    "deletable": true,
    "editable": true
   },
   "source": [
    "# initialisation\n",
    "on va commencer par deux gare relier entre elles.  \n",
    "hypothèse :  \n",
    " * deplacement wagon instantané"
   ]
  },
  {
   "cell_type": "code",
   "execution_count": 24,
   "metadata": {
    "collapsed": false,
    "deletable": true,
    "editable": true
   },
   "outputs": [],
   "source": [
    "N = 100\n",
    "\n",
    "class Station:\n",
    "    def __init__(self, ar, so, ta, cm):\n",
    "        self.ar = ar # % d'arrivant dans la gare\n",
    "        self.so = so # % de partant dans la gare\n",
    "        self.ta = ta # temps entre chaque metro\n",
    "        self.cm = cm # capacité d'un metro\n",
    "        self.nb = N # nombre de personne dans le metro\n",
    "        self.t = 0   # initialisatien du temps de la gare\n",
    "        self.next_s = []\n",
    "    \n",
    "    \n",
    "    def update(self): # fonction qui actualise les donnés\n",
    "        if self.so >= np.random.choice(100):\n",
    "            n = np.random.choice(10)\n",
    "            if self.nb - n >= 0:\n",
    "                self.nb = self.nb - n\n",
    "            else:\n",
    "                self.nb = 0\n",
    "        if self.ar >= np.random.choice(100):\n",
    "            self.nb += np.random.choice(10)\n",
    "        self.t += 1\n",
    "        if self.t >= self.ta: #si metro est arrive\n",
    "            if self.nb >= self.cm: #si plus de monde que de place\n",
    "                #regarde si voy est arriver si cest pas le cas tu rajoute dans next\n",
    "                self.nb = self.nb - self.cm\n",
    "            else: #plus de place\n",
    "                self.nb = 0\n",
    "            self.t=0\n",
    "                \n",
    "    \n",
    "    def next_station(self, station):\n",
    "        self.next_s.append(station)"
   ]
  },
  {
   "cell_type": "code",
   "execution_count": 25,
   "metadata": {
    "collapsed": false,
    "deletable": true,
    "editable": true
   },
   "outputs": [],
   "source": [
    "nb_step = 600\n",
    "\n",
    "cm = 700\n",
    "\n",
    "ar1 = 30\n",
    "so1 = 5\n",
    "ta1 = 10*60 + 0 #min * 60 + sec\n",
    "\n",
    "ar2 = 30\n",
    "so2 = 5\n",
    "ta2 = 10*60 + 0 #min * 60 + sec"
   ]
  },
  {
   "cell_type": "markdown",
   "metadata": {
    "collapsed": true,
    "deletable": true,
    "editable": true
   },
   "source": [
    "## une simulation"
   ]
  },
  {
   "cell_type": "code",
   "execution_count": 38,
   "metadata": {
    "collapsed": true,
    "deletable": true,
    "editable": true
   },
   "outputs": [],
   "source": [
    "TIME_CAPT = 2\n",
    "\n",
    "def simulation(L):\n",
    "    time = [] # liste qui represente le temps \n",
    "    nb_tot = []\n",
    "    nb_station = []\n",
    "    for t in range(nb_step):\n",
    "        for j in L:\n",
    "            j.update()\n",
    "        if t % TIME_CAPT == 0:\n",
    "            nb = 0\n",
    "            time.append(t)\n",
    "            k = 0\n",
    "            for j in L:\n",
    "                if k >= len(nb_station):\n",
    "                    nb_station.append([])\n",
    "                nb_station[k].append(j.nb)\n",
    "                nb += j.nb\n",
    "                k+=1\n",
    "            nb_tot.append(nb)\n",
    "    return (time, nb_tot, nb_station)\n",
    "\n",
    "\n",
    "    \n",
    "    "
   ]
  },
  {
   "cell_type": "code",
   "execution_count": 27,
   "metadata": {
    "collapsed": true,
    "deletable": true,
    "editable": true
   },
   "outputs": [],
   "source": [
    "def init(List):\n",
    "    List = []\n",
    "    List.append(Station(ar1, so1, ta1, cm))\n",
    "    List.append(Station(ar2, so2, ta2, cm))\n",
    "    List[0].next_station(List_Gare[1])\n",
    "    List[1].next_station(List_Gare[0])\n",
    "    return List"
   ]
  },
  {
   "cell_type": "code",
   "execution_count": 28,
   "metadata": {
    "collapsed": false,
    "deletable": true,
    "editable": true
   },
   "outputs": [
    {
     "data": {
      "text/plain": [
       "<matplotlib.text.Text at 0x7f6213723e10>"
      ]
     },
     "execution_count": 28,
     "metadata": {},
     "output_type": "execute_result"
    },
    {
     "data": {
      "image/png": "[encoded data removed]",
      "text/plain": [
       "<matplotlib.figure.Figure at 0x7f62137d3240>"
      ]
     },
     "metadata": {},
     "output_type": "display_data"
    }
   ],
   "source": [
    "List_Gare = []\n",
    "List_Gare.append(Station(ar1, so1, ta1, cm))\n",
    "List_Gare.append(Station(ar2, so2, ta2, cm))\n",
    "List_Gare[0].next_station(List_Gare[1])\n",
    "List_Gare[1].next_station(List_Gare[0])\n",
    "\n",
    "\n",
    "\n",
    "time, nb_tot, nb_station = simulation(List_Gare)\n",
    "fig, axes = plt.subplots(nrows=2, ncols=1, figsize=(14,7))\n",
    "axes[0].plot(time, nb_tot, 'b')\n",
    "axes[0].set_xlabel(\"temps\")\n",
    "axes[0].set_ylabel(\"nb de personne au total\")\n",
    "for i in nb_station:\n",
    "    axes[1].plot(time, i)\n",
    "axes[1].set_xlabel(\"temps\")\n",
    "axes[1].set_ylabel(\"nb de personne par station\")\n"
   ]
  },
  {
   "cell_type": "code",
   "execution_count": null,
   "metadata": {
    "collapsed": true
   },
   "outputs": [],
   "source": []
  },
  {
   "cell_type": "markdown",
   "metadata": {
    "deletable": true,
    "editable": true
   },
   "source": [
    "## moyenner"
   ]
  },
  {
   "cell_type": "code",
   "execution_count": 49,
   "metadata": {
    "collapsed": false,
    "deletable": true,
    "editable": true,
    "scrolled": false
   },
   "outputs": [
    {
     "name": "stdout",
     "output_type": "stream",
     "text": [
      "300 300 300\n"
     ]
    },
    {
     "ename": "ValueError",
     "evalue": "operands could not be broadcast together with shapes (300,) (2,) ",
     "output_type": "error",
     "traceback": [
      "\u001b[0;31m---------------------------------------------------------------------------\u001b[0m",
      "\u001b[0;31mValueError\u001b[0m                                Traceback (most recent call last)",
      "\u001b[0;32m<ipython-input-49-fd517e7e4765>\u001b[0m in \u001b[0;36m<module>\u001b[0;34m()\u001b[0m\n\u001b[1;32m     45\u001b[0m \u001b[0mfig\u001b[0m\u001b[0;34m,\u001b[0m \u001b[0maxes\u001b[0m \u001b[0;34m=\u001b[0m \u001b[0mplt\u001b[0m\u001b[0;34m.\u001b[0m\u001b[0msubplots\u001b[0m\u001b[0;34m(\u001b[0m\u001b[0mnrows\u001b[0m\u001b[0;34m=\u001b[0m\u001b[0;36m2\u001b[0m\u001b[0;34m,\u001b[0m \u001b[0mncols\u001b[0m\u001b[0;34m=\u001b[0m\u001b[0;36m1\u001b[0m\u001b[0;34m,\u001b[0m \u001b[0mfigsize\u001b[0m\u001b[0;34m=\u001b[0m\u001b[0;34m(\u001b[0m\u001b[0;36m14\u001b[0m\u001b[0;34m,\u001b[0m\u001b[0;36m7\u001b[0m\u001b[0;34m)\u001b[0m\u001b[0;34m)\u001b[0m\u001b[0;34m\u001b[0m\u001b[0m\n\u001b[1;32m     46\u001b[0m \u001b[0maxes\u001b[0m\u001b[0;34m[\u001b[0m\u001b[0;36m0\u001b[0m\u001b[0;34m]\u001b[0m\u001b[0;34m.\u001b[0m\u001b[0mplot\u001b[0m\u001b[0;34m(\u001b[0m\u001b[0mtime\u001b[0m\u001b[0;34m,\u001b[0m \u001b[0mnb_tot\u001b[0m\u001b[0;34m)\u001b[0m\u001b[0;31m#, time, L_err, 'g')\u001b[0m\u001b[0;34m\u001b[0m\u001b[0m\n\u001b[0;32m---> 47\u001b[0;31m \u001b[0maxes\u001b[0m\u001b[0;34m[\u001b[0m\u001b[0;36m0\u001b[0m\u001b[0;34m]\u001b[0m\u001b[0;34m.\u001b[0m\u001b[0merrorbar\u001b[0m\u001b[0;34m(\u001b[0m\u001b[0mtime\u001b[0m\u001b[0;34m,\u001b[0m \u001b[0mnb_tot\u001b[0m\u001b[0;34m,\u001b[0m \u001b[0myerr\u001b[0m\u001b[0;34m=\u001b[0m\u001b[0mnp\u001b[0m\u001b[0;34m.\u001b[0m\u001b[0marray\u001b[0m\u001b[0;34m(\u001b[0m\u001b[0mnb_tot\u001b[0m\u001b[0;34m)\u001b[0m\u001b[0;34m-\u001b[0m\u001b[0mnp\u001b[0m\u001b[0;34m.\u001b[0m\u001b[0marray\u001b[0m\u001b[0;34m(\u001b[0m\u001b[0mL_err\u001b[0m\u001b[0;34m[\u001b[0m\u001b[0;36m1\u001b[0m\u001b[0;34m]\u001b[0m\u001b[0;34m)\u001b[0m\u001b[0;34m)\u001b[0m\u001b[0;31m#L_err)\u001b[0m\u001b[0;34m\u001b[0m\u001b[0m\n\u001b[0m\u001b[1;32m     48\u001b[0m \u001b[0maxes\u001b[0m\u001b[0;34m[\u001b[0m\u001b[0;36m0\u001b[0m\u001b[0;34m]\u001b[0m\u001b[0;34m.\u001b[0m\u001b[0mset_xlabel\u001b[0m\u001b[0;34m(\u001b[0m\u001b[0;34m\"temps\"\u001b[0m\u001b[0;34m)\u001b[0m\u001b[0;34m\u001b[0m\u001b[0m\n\u001b[1;32m     49\u001b[0m \u001b[0maxes\u001b[0m\u001b[0;34m[\u001b[0m\u001b[0;36m0\u001b[0m\u001b[0;34m]\u001b[0m\u001b[0;34m.\u001b[0m\u001b[0mset_ylabel\u001b[0m\u001b[0;34m(\u001b[0m\u001b[0;34m\"nb de personne au total\"\u001b[0m\u001b[0;34m)\u001b[0m\u001b[0;34m\u001b[0m\u001b[0m\n",
      "\u001b[0;31mValueError\u001b[0m: operands could not be broadcast together with shapes (300,) (2,) "
     ]
    },
    {
     "data": {
      "image/png": "[encoded data removed]",
      "text/plain": [
       "<matplotlib.figure.Figure at 0x7f62112190b8>"
      ]
     },
     "metadata": {},
     "output_type": "display_data"
    }
   ],
   "source": [
    "time, nb_tot_moy, nb_station_moy = simulation(List_Gare)\n",
    "\n",
    "repet = 100\n",
    "\n",
    "L=[]\n",
    "L.append(nb_tot_moy.copy())\n",
    "#initialisation \n",
    "for j in range(len(nb_tot_moy)):\n",
    "    nb_tot_moy[j] = nb_tot_moy[j] / repet\n",
    "\n",
    "for j in range(len(nb_station)):\n",
    "    for k in range(len(nb_station[j])):\n",
    "        nb_station[j][k] = nb_station[j][k] / repet\n",
    "\n",
    "#recuperation des autre simulation\n",
    "for i in range(repet - 1):\n",
    "    #remise a 0\n",
    "    List_Gare = []\n",
    "    List_Gare.append(Station(ar1, so1, ta1, cm))\n",
    "    List_Gare.append(Station(ar2, so2, ta2, cm))\n",
    "    List_Gare[0].next_station(List_Gare[1])\n",
    "    List_Gare[1].next_station(List_Gare[0])\n",
    "    time, nb_tot, nb_station =simulation(List_Gare)\n",
    "    L.append(nb_tot.copy())\n",
    "    for j in range(len(nb_tot)):\n",
    "        nb_tot_moy[j] += nb_tot[j] / repet\n",
    "    for j in range(len(nb_station)):\n",
    "        for k in range(len(nb_station[j])):\n",
    "            nb_station[j][k] += nb_station[j][k] / repet\n",
    "\n",
    "            \n",
    "L_err = []\n",
    "x=0\n",
    "for k in range(len(L[0])):\n",
    "    for i in range(len(L[0])):\n",
    "        for j in range(len(L)-1):\n",
    "            if L[j][k]>L[j+1][k]:\n",
    "                x=L[j][k]\n",
    "                L[j][k]=L[j+1][k]\n",
    "                L[j+1][k]=x\n",
    "    L_err.append((L[round(repet*0.975)][k], L[round(repet*0.025)][k]))\n",
    "\n",
    "print(len(time), len(nb_tot), len(L_err))\n",
    "    \n",
    "fig, axes = plt.subplots(nrows=2, ncols=1, figsize=(14,7))\n",
    "axes[0].plot(time, nb_tot)#, time, L_err, 'g')\n",
    "axes[0].errorbar(time, nb_tot, yerr=)#L_err)\n",
    "axes[0].set_xlabel(\"temps\")\n",
    "axes[0].set_ylabel(\"nb de personne au total\")\n",
    "for i in nb_station:\n",
    "    axes[1].plot(time, i)\n",
    "axes[1].set_xlabel(\"temps\")\n",
    "axes[1].set_ylabel(\"nb de personne par station\")"
   ]
  },
  {
   "cell_type": "code",
   "execution_count": null,
   "metadata": {
    "collapsed": true,
    "deletable": true,
    "editable": true
   },
   "outputs": [],
   "source": []
  },
  {
   "cell_type": "code",
   "execution_count": null,
   "metadata": {
    "collapsed": true,
    "deletable": true,
    "editable": true
   },
   "outputs": [],
   "source": []
  },
  {
   "cell_type": "code",
   "execution_count": null,
   "metadata": {
    "collapsed": true,
    "deletable": true,
    "editable": true
   },
   "outputs": [],
   "source": []
  },
  {
   "cell_type": "code",
   "execution_count": null,
   "metadata": {
    "collapsed": true,
    "deletable": true,
    "editable": true
   },
   "outputs": [],
   "source": []
  },
  {
   "cell_type": "code",
   "execution_count": null,
   "metadata": {
    "collapsed": true,
    "deletable": true,
    "editable": true
   },
   "outputs": [],
   "source": []
  },
  {
   "cell_type": "code",
   "execution_count": null,
   "metadata": {
    "collapsed": true,
    "deletable": true,
    "editable": true
   },
   "outputs": [],
   "source": []
  }
 ],
 "metadata": {
  "kernelspec": {
   "display_name": "Python 3",
   "language": "python",
   "name": "python3"
  },
  "language_info": {
   "codemirror_mode": {
    "name": "ipython",
    "version": 3
   },
   "file_extension": ".py",
   "mimetype": "text/x-python",
   "name": "python",
   "nbconvert_exporter": "python",
   "pygments_lexer": "ipython3",
   "version": "3.4.2"
  }
 },
 "nbformat": 4,
 "nbformat_minor": 1
}
