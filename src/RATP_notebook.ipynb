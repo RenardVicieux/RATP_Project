{
 "cells": [
  {
   "cell_type": "markdown",
   "metadata": {},
   "source": [
    "# ETUDE DYNAMYQUE DES METROS DE PARIS"
   ]
  },
  {
   "cell_type": "markdown",
   "metadata": {},
   "source": [
    "## Introduction"
   ]
  },
  {
   "cell_type": "markdown",
   "metadata": {},
   "source": [
    "Nous allons faire une étude sur le nombre de personne qui attentte a chaque métros.\n",
    "\n",
    "parametre\n",
    "\n",
    "* nb : nb de personne\n",
    "* ar : % de personne qui arrive \n",
    "* so : % de perssonne qui sort de la gare\n",
    "* ta : temps d'arriver du metro\n",
    "* cm : capacité du metro\n",
    "\n",
    "\n",
    "\n",
    "parramettre plus tard\n",
    "* temps pour une perssonne a rentré / sortir"
   ]
  },
  {
   "cell_type": "markdown",
   "metadata": {},
   "source": [
    "### Les importation"
   ]
  },
  {
   "cell_type": "code",
   "execution_count": 1,
   "metadata": {
    "collapsed": true
   },
   "outputs": [],
   "source": [
    "%matplotlib inline\n",
    "\n",
    "from pylab import *\n",
    "\n",
    "import numpy as np\n",
    "import matplotlib\n",
    "import matplotlib.pyplot as plt"
   ]
  },
  {
   "cell_type": "code",
   "execution_count": 2,
   "metadata": {
    "collapsed": true
   },
   "outputs": [],
   "source": [
    "#ligne;nom;niem_arret;\n",
    "ar = 0\n",
    "so = 0\n",
    "ta = 2\n",
    "cm = 0.5\n",
    "#tj = compteur\n",
    "\n",
    "#def update():\n",
    "    "
   ]
  },
  {
   "cell_type": "markdown",
   "metadata": {},
   "source": [
    "# initialisation\n",
    "on va commencer par deux gare relier entre elles.  \n",
    "hypothèse :  \n",
    " * deplacement wagon instantané"
   ]
  },
  {
   "cell_type": "code",
   "execution_count": 3,
   "metadata": {
    "collapsed": true
   },
   "outputs": [],
   "source": [
    "N = 1000\n",
    "\n",
    "class Station:\n",
    "    def __init__(self, ar, so, ta, cm):\n",
    "        self.ar = ar # % d'arrivant dans la gare\n",
    "        self.so = so # % de partant dans la gare\n",
    "        self.ta = ta # temps entre chaque metro\n",
    "        self.cm = cm # capacité d'un metro\n",
    "        self.nb = N # nombre de personne dans le metro\n",
    "        self.t = 0   # initialisatien du temps de la gare\n",
    "        self.next_s = self\n",
    "    \n",
    "    \n",
    "    def update(self): # fonction qui actualise les donnés\n",
    "        if self.so >= np.random.choice(100):\n",
    "            n = np.random.choice(10)\n",
    "            if self.nb - n >= 0:\n",
    "                self.nb = self.nb - n\n",
    "            else:\n",
    "                self.nb = 0\n",
    "        if self.ar >= np.random.choice(100):\n",
    "            self.nb += np.random.choice(10)\n",
    "        self.t += 1\n",
    "        if self.t > ta:\n",
    "            if self.nb >= self.cm:\n",
    "                self.next_s.nb += self.cm\n",
    "                self.nb = self.nb - self.cm\n",
    "            else:\n",
    "                self.next_s.nb += self.nb\n",
    "                self.nb = 0\n",
    "            self.t=0\n",
    "                \n",
    "    \n",
    "    def next_station(self, station):\n",
    "        self.next_s = station"
   ]
  },
  {
   "cell_type": "code",
   "execution_count": 10,
   "metadata": {
    "collapsed": true
   },
   "outputs": [],
   "source": [
    "nb_step = 24*3600\n",
    "\n",
    "cm = 700\n",
    "\n",
    "ar1 = 51\n",
    "so1 = 100 - ar1\n",
    "ta1 = 1*60\n",
    "\n",
    "ar2 = 49\n",
    "so2 = 100 - ar2\n",
    "ta2 = 1*60"
   ]
  },
  {
   "cell_type": "markdown",
   "metadata": {
    "collapsed": true
   },
   "source": [
    "## une simulation"
   ]
  },
  {
   "cell_type": "code",
   "execution_count": 13,
   "metadata": {
    "collapsed": true
   },
   "outputs": [],
   "source": [
    "def simulation(L):\n",
    "    time = [] # liste qui represente le temps \n",
    "    nb_tot = []\n",
    "    nb_station = []\n",
    "    for i in range(nb_step):\n",
    "        nb = 0\n",
    "        time.append(i)\n",
    "        for j in L:\n",
    "            j.update()\n",
    "        k = 0\n",
    "        for j in L:\n",
    "            if k >= len(nb_station):\n",
    "                nb_station.append([])\n",
    "            nb_station[k].append(j.nb)\n",
    "            nb += j.nb\n",
    "            k+=1\n",
    "        nb_tot.append(nb)\n",
    "    return (time, nb_tot, nb_station)\n",
    "\n",
    "\n",
    "    \n",
    "    "
   ]
  },
  {
   "cell_type": "code",
   "execution_count": 14,
   "metadata": {
    "collapsed": true
   },
   "outputs": [],
   "source": [
    "def init(List):\n",
    "    List = []\n",
    "    List.append(Station(ar1, so1, ta1, cm))\n",
    "    List.append(Station(ar2, so2, ta2, cm))\n",
    "    List[0].next_station(List_Gare[1])\n",
    "    List[1].next_station(List_Gare[0])\n",
    "    return List"
   ]
  },
  {
   "cell_type": "code",
   "execution_count": 16,
   "metadata": {
    "collapsed": false
   },
   "outputs": [
    {
     "data": {
      "text/plain": [
       "<matplotlib.text.Text at 0x7f2623d27690>"
      ]
     },
     "execution_count": 16,
     "metadata": {},
     "output_type": "execute_result"
    },
    {
     "data": {
      "image/png": "[encoded data removed]",
      "text/plain": [
       "<matplotlib.figure.Figure at 0x7f2623e82b10>"
      ]
     },
     "metadata": {},
     "output_type": "display_data"
    }
   ],
   "source": [
    "List_Gare = []\n",
    "List_Gare.append(Station(ar1, so1, ta1, cm))\n",
    "List_Gare.append(Station(ar2, so2, ta2, cm))\n",
    "List_Gare[0].next_station(List_Gare[1])\n",
    "List_Gare[1].next_station(List_Gare[0])\n",
    "\n",
    "\n",
    "time, nb_tot, nb_station = simulation(List_Gare)\n",
    "fig, axes = plt.subplots(nrows=2, ncols=1, figsize=(14,7))\n",
    "axes[0].plot(time, nb_tot, 'b')\n",
    "axes[0].set_xlabel(\"temps\")\n",
    "axes[0].set_ylabel(\"nb de personne au total\")\n",
    "for i in nb_station:\n",
    "    axes[1].plot(time, i)\n",
    "axes[1].set_xlabel(\"temps\")\n",
    "axes[1].set_ylabel(\"nb de personne par station\")\n"
   ]
  },
  {
   "cell_type": "markdown",
   "metadata": {},
   "source": [
    "## moyenner"
   ]
  },
  {
   "cell_type": "code",
   "execution_count": 17,
   "metadata": {
    "collapsed": false
   },
   "outputs": [
    {
     "data": {
      "text/plain": [
       "<matplotlib.text.Text at 0x7f2623bbc210>"
      ]
     },
     "execution_count": 17,
     "metadata": {},
     "output_type": "execute_result"
    },
    {
     "data": {
      "image/png": "[encoded data removed]",
      "text/plain": [
       "<matplotlib.figure.Figure at 0x7f2629db9e50>"
      ]
     },
     "metadata": {},
     "output_type": "display_data"
    }
   ],
   "source": [
    "time, nb_tot_moy, nb_station_moy = simulation(List_Gare)\n",
    "\n",
    "repet = 100\n",
    "\n",
    "\n",
    "#initialisation \n",
    "for j in range(len(nb_tot)):\n",
    "    nb_tot_moy[j] = nb_tot_moy[j] / repet\n",
    "\n",
    "for j in range(len(nb_station)):\n",
    "    for k in range(len(nb_station[j])):\n",
    "        nb_station[j][k] = nb_station[j][k] / repet\n",
    "\n",
    "#recuperation des autre simulation\n",
    "for i in range(repet - 1):\n",
    "    #remise a 0\n",
    "    List_Gare = []\n",
    "    List_Gare.append(Station(ar1, so1, ta1, cm))\n",
    "    List_Gare.append(Station(ar2, so2, ta2, cm))\n",
    "    List_Gare[0].next_station(List_Gare[1])\n",
    "    List_Gare[1].next_station(List_Gare[0])\n",
    "    time, nb_tot, nb_station =simulation(List_Gare)\n",
    "    for j in range(len(nb_tot)):\n",
    "        nb_tot_moy[j] += nb_tot[j] / repet\n",
    "    for j in range(len(nb_station)):\n",
    "        for k in range(len(nb_station[j])):\n",
    "            nb_station[j][k] += nb_station[j][k] / repet\n",
    "\n",
    "    \n",
    "    \n",
    "fig, axes = plt.subplots(nrows=2, ncols=1, figsize=(14,7))\n",
    "axes[0].plot(time, nb_tot, 'b')\n",
    "axes[0].set_xlabel(\"temps\")\n",
    "axes[0].set_ylabel(\"nb de personne au total\")\n",
    "for i in nb_station:\n",
    "    axes[1].plot(time, i)\n",
    "axes[1].set_xlabel(\"temps\")\n",
    "axes[1].set_ylabel(\"nb de personne par station\")"
   ]
  },
  {
   "cell_type": "code",
   "execution_count": null,
   "metadata": {
    "collapsed": true
   },
   "outputs": [],
   "source": []
  },
  {
   "cell_type": "code",
   "execution_count": null,
   "metadata": {
    "collapsed": true
   },
   "outputs": [],
   "source": []
  },
  {
   "cell_type": "code",
   "execution_count": null,
   "metadata": {
    "collapsed": true
   },
   "outputs": [],
   "source": []
  },
  {
   "cell_type": "code",
   "execution_count": null,
   "metadata": {
    "collapsed": true
   },
   "outputs": [],
   "source": []
  },
  {
   "cell_type": "code",
   "execution_count": null,
   "metadata": {
    "collapsed": true
   },
   "outputs": [],
   "source": []
  },
  {
   "cell_type": "code",
   "execution_count": null,
   "metadata": {
    "collapsed": true
   },
   "outputs": [],
   "source": []
  },
  {
   "cell_type": "code",
   "execution_count": null,
   "metadata": {
    "collapsed": true
   },
   "outputs": [],
   "source": []
  },
  {
   "cell_type": "code",
   "execution_count": null,
   "metadata": {
    "collapsed": true
   },
   "outputs": [],
   "source": []
  },
  {
   "cell_type": "code",
   "execution_count": null,
   "metadata": {
    "collapsed": true
   },
   "outputs": [],
   "source": []
  },
  {
   "cell_type": "code",
   "execution_count": null,
   "metadata": {
    "collapsed": true
   },
   "outputs": [],
   "source": []
  }
 ],
 "metadata": {
  "kernelspec": {
   "display_name": "Python 2",
   "language": "python",
   "name": "python2"
  },
  "language_info": {
   "codemirror_mode": {
    "name": "ipython",
    "version": 2
   },
   "file_extension": ".py",
   "mimetype": "text/x-python",
   "name": "python",
   "nbconvert_exporter": "python",
   "pygments_lexer": "ipython2",
   "version": "2.7.9"
  }
 },
 "nbformat": 4,
 "nbformat_minor": 1
}
