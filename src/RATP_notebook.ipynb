{
 "cells": [
  {
   "cell_type": "markdown",
   "metadata": {},
   "source": [
    "# ETUDE DYNAMYQUE DES METROS DE PARIS"
   ]
  },
  {
   "cell_type": "markdown",
   "metadata": {},
   "source": [
    "## Introduction"
   ]
  },
  {
   "cell_type": "markdown",
   "metadata": {},
   "source": [
    "Nous allons faire une étude sur le nombre de personne qui attentte a chaque métros.\n",
    "\n",
    "parametre\n",
    "\n",
    "* nb de personne                                                                              nb\n",
    "* personne qui habite (en temps (0 jamais perssonne 1 trop tous le temps des personne arrive) ar\n",
    "* perssonne qui sort de la gare entre 0 et 1                                                  so\n",
    "* temps d'arriver du metro                                                                    ta\n",
    "* capacité du metro                                                                           cm\n",
    "* temps de la journée                                                                         tj\n",
    "\n",
    "\n",
    "\n",
    "parramettre plus tard\n",
    "* temps pour une perssonne a rentré / sortir"
   ]
  },
  {
   "cell_type": "code",
   "execution_count": null,
   "metadata": {
    "collapsed": true
   },
   "outputs": [],
   "source": [
    "#ligne;nom;niem_arret;\n",
    "ar = 0\n",
    "so = 0\n",
    "ta = 2\n",
    "cm = 0.5\n",
    "tj = compteur\n",
    "\n",
    "def update():\n",
    "    "
   ]
  },
  {
   "cell_type": "code",
   "execution_count": 17,
   "metadata": {
    "collapsed": false
   },
   "outputs": [],
   "source": [
    "class Station:\n",
    "    def __init__(self, ar, so, ta, cm):\n",
    "        self.ar = ar # nb d'arrivant dans la gare\n",
    "        self.so = so # nb de partant dans la gare\n",
    "        self.ta = ta # temps entre chaque metro\n",
    "        self.cm = cm # capacité d'un metro\n",
    "        self.nb = 0 # nombre de personne dans le metro\n",
    "        self.t = 0   # initialisatien du temps de la gare\n",
    "        self.next_s = self;\n",
    "    \n",
    "    def update(self): # fonction qui actualise les donnés\n",
    "        self.nb = self.nb + self.ar - self.so\n",
    "        self.t += 1\n",
    "        if self.t > ta:\n",
    "            self.nb = self.nb - self.cm\n",
    "    \n",
    "    def next_station(self, station):\n",
    "        self.next_s = station"
   ]
  },
  {
   "cell_type": "code",
   "execution_count": 9,
   "metadata": {
    "collapsed": true
   },
   "outputs": [],
   "source": [
    "# initialisation\n"
   ]
  },
  {
   "cell_type": "code",
   "execution_count": 18,
   "metadata": {
    "collapsed": false
   },
   "outputs": [
    {
     "ename": "TypeError",
     "evalue": "next_station() takes 1 positional argument but 2 were given",
     "output_type": "error",
     "traceback": [
      "\u001b[0;31m---------------------------------------------------------------------------\u001b[0m",
      "\u001b[0;31mTypeError\u001b[0m                                 Traceback (most recent call last)",
      "\u001b[0;32m<ipython-input-18-b343c8851919>\u001b[0m in \u001b[0;36m<module>\u001b[0;34m()\u001b[0m\n\u001b[1;32m     14\u001b[0m \u001b[0mList_Gare\u001b[0m\u001b[0;34m.\u001b[0m\u001b[0mappend\u001b[0m\u001b[0;34m(\u001b[0m\u001b[0mStation\u001b[0m\u001b[0;34m(\u001b[0m\u001b[0mar1\u001b[0m\u001b[0;34m,\u001b[0m \u001b[0mso1\u001b[0m\u001b[0;34m,\u001b[0m \u001b[0mta1\u001b[0m\u001b[0;34m,\u001b[0m \u001b[0mcm\u001b[0m\u001b[0;34m)\u001b[0m\u001b[0;34m)\u001b[0m\u001b[0;34m\u001b[0m\u001b[0m\n\u001b[1;32m     15\u001b[0m \u001b[0mList_Gare\u001b[0m\u001b[0;34m.\u001b[0m\u001b[0mappend\u001b[0m\u001b[0;34m(\u001b[0m\u001b[0mStation\u001b[0m\u001b[0;34m(\u001b[0m\u001b[0mar2\u001b[0m\u001b[0;34m,\u001b[0m \u001b[0mso2\u001b[0m\u001b[0;34m,\u001b[0m \u001b[0mta2\u001b[0m\u001b[0;34m,\u001b[0m \u001b[0mcm\u001b[0m\u001b[0;34m)\u001b[0m\u001b[0;34m)\u001b[0m\u001b[0;34m\u001b[0m\u001b[0m\n\u001b[0;32m---> 16\u001b[0;31m \u001b[0mList_Gare\u001b[0m\u001b[0;34m[\u001b[0m\u001b[0;36m0\u001b[0m\u001b[0;34m]\u001b[0m\u001b[0;34m.\u001b[0m\u001b[0mnext_station\u001b[0m\u001b[0;34m(\u001b[0m\u001b[0mList_Gare\u001b[0m\u001b[0;34m[\u001b[0m\u001b[0;36m1\u001b[0m\u001b[0;34m]\u001b[0m\u001b[0;34m)\u001b[0m\u001b[0;34m\u001b[0m\u001b[0m\n\u001b[0m\u001b[1;32m     17\u001b[0m \u001b[0mList_Gare\u001b[0m\u001b[0;34m[\u001b[0m\u001b[0;36m1\u001b[0m\u001b[0;34m]\u001b[0m\u001b[0;34m.\u001b[0m\u001b[0mnext_station\u001b[0m\u001b[0;34m(\u001b[0m\u001b[0mList_Gare\u001b[0m\u001b[0;34m[\u001b[0m\u001b[0;36m0\u001b[0m\u001b[0;34m]\u001b[0m\u001b[0;34m)\u001b[0m\u001b[0;34m\u001b[0m\u001b[0m\n",
      "\u001b[0;31mTypeError\u001b[0m: next_station() takes 1 positional argument but 2 were given"
     ]
    }
   ],
   "source": [
    "nb_step = 24*3600\n",
    "\n",
    "cm = 700\n",
    "\n",
    "ar1 = 90\n",
    "so1 = 20\n",
    "ta1 = 3*60\n",
    "\n",
    "ar2 = 20\n",
    "so2 = 90\n",
    "ta2 = 3*60\n",
    "\n",
    "List_Gare = []\n",
    "List_Gare.append(Station(ar1, so1, ta1, cm))\n",
    "List_Gare.append(Station(ar2, so2, ta2, cm))\n",
    "List_Gare[0].next_station(List_Gare[1])\n",
    "List_Gare[1].next_station(List_Gare[0])"
   ]
  },
  {
   "cell_type": "code",
   "execution_count": null,
   "metadata": {
    "collapsed": true
   },
   "outputs": [],
   "source": []
  },
  {
   "cell_type": "code",
   "execution_count": null,
   "metadata": {
    "collapsed": true
   },
   "outputs": [],
   "source": []
  },
  {
   "cell_type": "code",
   "execution_count": null,
   "metadata": {
    "collapsed": true
   },
   "outputs": [],
   "source": []
  },
  {
   "cell_type": "code",
   "execution_count": null,
   "metadata": {
    "collapsed": true
   },
   "outputs": [],
   "source": []
  },
  {
   "cell_type": "code",
   "execution_count": null,
   "metadata": {
    "collapsed": true
   },
   "outputs": [],
   "source": []
  },
  {
   "cell_type": "code",
   "execution_count": null,
   "metadata": {
    "collapsed": true
   },
   "outputs": [],
   "source": []
  },
  {
   "cell_type": "code",
   "execution_count": null,
   "metadata": {
    "collapsed": true
   },
   "outputs": [],
   "source": []
  },
  {
   "cell_type": "code",
   "execution_count": null,
   "metadata": {
    "collapsed": true
   },
   "outputs": [],
   "source": []
  },
  {
   "cell_type": "code",
   "execution_count": null,
   "metadata": {
    "collapsed": true
   },
   "outputs": [],
   "source": []
  },
  {
   "cell_type": "code",
   "execution_count": null,
   "metadata": {
    "collapsed": true
   },
   "outputs": [],
   "source": []
  },
  {
   "cell_type": "code",
   "execution_count": null,
   "metadata": {
    "collapsed": true
   },
   "outputs": [],
   "source": []
  },
  {
   "cell_type": "code",
   "execution_count": null,
   "metadata": {
    "collapsed": true
   },
   "outputs": [],
   "source": []
  },
  {
   "cell_type": "code",
   "execution_count": null,
   "metadata": {
    "collapsed": true
   },
   "outputs": [],
   "source": []
  }
 ],
 "metadata": {
  "kernelspec": {
   "display_name": "Python 3",
   "language": "python",
   "name": "python3"
  },
  "language_info": {
   "codemirror_mode": {
    "name": "ipython",
    "version": 3
   },
   "file_extension": ".py",
   "mimetype": "text/x-python",
   "name": "python",
   "nbconvert_exporter": "python",
   "pygments_lexer": "ipython3",
   "version": "3.4.2"
  }
 },
 "nbformat": 4,
 "nbformat_minor": 0
}
