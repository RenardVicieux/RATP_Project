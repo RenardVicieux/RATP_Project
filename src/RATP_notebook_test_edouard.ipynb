{
 "cells": [
  {
   "cell_type": "markdown",
   "metadata": {},
   "source": [
    "# ETUDE DYNAMYQUE DES METROS DE PARIS"
   ]
  },
  {
   "cell_type": "markdown",
   "metadata": {},
   "source": [
    "## Introduction"
   ]
  },
  {
   "cell_type": "markdown",
   "metadata": {},
   "source": [
    "Nous allons faire une étude sur le nombre de personne qui attentte a chaque métros.\n",
    "\n",
    "parametre\n",
    "\n",
    "* nb : nb de personne\n",
    "* ar : % de personne qui arrive \n",
    "* so : % de perssonne qui sort de la gare\n",
    "* ta : temps d'arriver du metro\n",
    "* cm : capacité du metro\n",
    "\n",
    "\n",
    "\n",
    "parramettre plus tard\n",
    "* temps pour une perssonne a rentré / sortir"
   ]
  },
  {
   "cell_type": "markdown",
   "metadata": {},
   "source": [
    "### Les importation"
   ]
  },
  {
   "cell_type": "code",
   "execution_count": null,
   "metadata": {
    "collapsed": true
   },
   "outputs": [],
   "source": [
    "%matplotlib inline\n",
    "\n",
    "from pylab import *\n",
    "\n",
    "import numpy as np\n",
    "import matplotlib\n",
    "import matplotlib.pyplot as plt"
   ]
  },
  {
   "cell_type": "code",
   "execution_count": null,
   "metadata": {
    "collapsed": true
   },
   "outputs": [],
   "source": [
    "#ligne;nom;niem_arret;\n",
    "ar = 0\n",
    "so = 0\n",
    "ta = 2\n",
    "cm = 0.5\n",
    "#tj = compteur\n",
    "\n",
    "#def update():\n",
    "    "
   ]
  },
  {
   "cell_type": "markdown",
   "metadata": {},
   "source": [
    "# initialisation\n",
    "on va commencer par deux gare relier entre elles.  \n",
    "hypothèse :  \n",
    " * deplacement wagon instantané"
   ]
  },
  {
   "cell_type": "code",
   "execution_count": null,
   "metadata": {
    "collapsed": true
   },
   "outputs": [],
   "source": [
    "N = 1000\n",
    "\n",
    "class Station:\n",
    "    def __init__(self, ar, so, ta, cm):\n",
    "        self.ar = ar # % d'arrivant dans la gare\n",
    "        self.so = so # % de partant dans la gare\n",
    "        self.ta = ta # temps entre chaque metro\n",
    "        self.cm = cm # capacité d'un metro\n",
    "        self.nb = N # nombre de personne dans le metro\n",
    "        self.t = 0   # initialisatien du temps de la gare\n",
    "        self.next_s = self\n",
    "    \n",
    "    \n",
    "    def update(self): # fonction qui actualise les donnés\n",
    "        if self.so >= np.random.choice(100):\n",
    "            n = np.random.choice(10)\n",
    "            if self.nb - n >= 0:\n",
    "                self.nb = self.nb - n\n",
    "            else:\n",
    "                self.nb = 0\n",
    "        if self.ar >= np.random.choice(100):\n",
    "            self.nb += np.random.choice(10)\n",
    "        self.t += 1\n",
    "        if self.t > ta:\n",
    "            if self.nb >= self.cm:\n",
    "                self.next_s.nb += self.cm\n",
    "                self.nb = self.nb - self.cm\n",
    "            else:\n",
    "                self.next_s.nb += self.nb\n",
    "                self.nb = 0\n",
    "            self.t=0\n",
    "                \n",
    "    \n",
    "    def next_station(self, station):\n",
    "        self.next_s = station"
   ]
  },
  {
   "cell_type": "code",
   "execution_count": null,
   "metadata": {
    "collapsed": true
   },
   "outputs": [],
   "source": [
    "nb_step = 5\n",
    "\n",
    "cm = 700\n",
    "\n",
    "ar1 = 50\n",
    "so1 = 50\n",
    "ta1 = 1*60\n",
    "\n",
    "ar2 = 50\n",
    "so2 = 50\n",
    "ta2 = 1*60\n",
    "\n",
    "List_Gare = []\n",
    "List_Gare.append(Station(ar1, so1, ta1, cm))\n",
    "List_Gare.append(Station(ar2, so2, ta2, cm))\n",
    "List_Gare[0].next_station(List_Gare[1])\n",
    "List_Gare[1].next_station(List_Gare[0])"
   ]
  },
  {
   "cell_type": "markdown",
   "metadata": {
    "collapsed": true
   },
   "source": [
    "## une simulation"
   ]
  },
  {
   "cell_type": "code",
   "execution_count": null,
   "metadata": {
    "collapsed": false
   },
   "outputs": [],
   "source": [
    "def simulation(L):\n",
    "    time = [] # liste qui represente le temps \n",
    "    nb_tot = []\n",
    "    nb_station = []\n",
    "    for i in range(nb_step):\n",
    "        nb = 0\n",
    "        time.append(i)\n",
    "        for j in L:\n",
    "            j.update()\n",
    "        k = 0\n",
    "        for j in L:\n",
    "            if k >= len(nb_station):\n",
    "                nb_station.append([])\n",
    "            nb_station[k].append(j.nb)\n",
    "            nb += j.nb\n",
    "            k+=1\n",
    "        nb_tot.append(nb)\n",
    "    return (time, nb_tot, nb_station)\n",
    "\n",
    "\n",
    "simulation(List_Gare)\n",
    "    "
   ]
  },
  {
   "cell_type": "code",
   "execution_count": null,
   "metadata": {
    "collapsed": false
   },
   "outputs": [],
   "source": [
    "time, nb_tot, nb_station = simulation(List_Gare)\n",
    "fig, axes = plt.subplots(nrows=2, ncols=1, figsize=(14,7))\n",
    "axes[0].plot(time, nb_tot, 'b')\n",
    "axes[0].set_xlabel(\"temps\")\n",
    "axes[0].set_ylabel(\"nb de personne au total\")\n",
    "for i in nb_station:\n",
    "    axes[1].plot(time, i)\n",
    "axes[1].set_xlabel(\"temps\")\n",
    "axes[1].set_ylabel(\"nb de personne par station\")\n"
   ]
  },
  {
   "cell_type": "markdown",
   "metadata": {},
   "source": [
    "## moyenner"
   ]
  },
  {
   "cell_type": "code",
   "execution_count": null,
   "metadata": {
    "collapsed": false
   },
   "outputs": [],
   "source": [
    "time, nb_tot_moy, nb_station_moy = simulation(List_Gare)\n",
    "\n",
    "repet = 100\n",
    "\n",
    "for j in range(len(nb_tot)):\n",
    "    nb_tot_moy[j] = nb_tot_moy[j] / repet\n",
    "\n",
    "for j in range(len(nb_station)):\n",
    "    for k in range(len(nb_station[j])):\n",
    "        nb_station[j][k] = nb_station[j][k] / repet\n",
    "    \n",
    "for i in range(repet - 1):\n",
    "    time, nb_tot, nb_station =simulation(List_Gare)\n",
    "    for j in range(len(nb_tot)):\n",
    "        nb_tot_moy[j] += nb_tot[j] / repet\n",
    "    for j in range(len(nb_station)):\n",
    "        for k in range(len(nb_station[j])):\n",
    "            nb_station[j][k] += nb_station[j][k] / repet\n",
    "\n",
    "    \n",
    "    \n",
    "fig, axes = plt.subplots(nrows=2, ncols=1, figsize=(14,7))\n",
    "axes[0].plot(time, nb_tot, 'b')\n",
    "axes[0].set_xlabel(\"temps\")\n",
    "axes[0].set_ylabel(\"nb de personne au total\")\n",
    "for i in nb_station:\n",
    "    axes[1].plot(time, i)\n",
    "axes[1].set_xlabel(\"temps\")\n",
    "axes[1].set_ylabel(\"nb de personne par station\")"
   ]
  },
  {
   "cell_type": "markdown",
   "metadata": {
    "collapsed": true
   },
   "source": [
    "# Test simulation Ed ligne M3b"
   ]
  },
  {
   "cell_type": "code",
   "execution_count": 1,
   "metadata": {
    "collapsed": false
   },
   "outputs": [
    {
     "name": "stdout",
     "output_type": "stream",
     "text": [
      "[['PORTE DE VANVES', 'PLAISANCE', 'M13', 210.0, '574'], ['PLAISANCE', 'PERNETY', 'M13', 210.0, '574'], ['PERNETY', 'GAITE', 'M13', 210.0, '574'], ['GAITE', 'MONTPARNASSE', 'M13', 210.0, '574'], ['MONTPARNASSE', 'SAINT-PLACIDE', 'M4', 330.0, '574'], ['SAINT-PLACIDE', 'SAINT-SULPICE', 'M4', 330.0, '574'], ['SAINT-SULPICE', 'SAINT-GERMAIN-DES-PRES', 'M4', 330.0, '574'], ['SAINT-GERMAIN-DES-PRES', 'ODEON', 'M4', 330.0, '574'], ['ODEON', 'CLUNY-LA-SORBONNE', 'M10', 300.0, '574'], ['CLUNY-LA-SORBONNE', 'MAUBERT-MUTUALITE', 'M10', 300.0, '574'], ['MAUBERT-MUTUALITE', 'CARDINAL-LEMOINE', 'M10', 300.0, '574'], ['CARDINAL-LEMOINE', 'JUSSIEU', 'M10', 300.0, '574']]\n"
     ]
    }
   ],
   "source": [
    "%matplotlib inline\n",
    "import os\n",
    "import numpy as np\n",
    "from LibMetroIti_NB import *\n",
    "\n",
    "if os.name == 'nt':\n",
    "    L=listeMetroCsv(\".\\\\data\\\\liste stations.csv\") #list([ligne,station,num_station])\n",
    "    Lex=listeMetroCsvStation(\".\\\\data\\\\liste stations exceptions-fourche2.csv\") #list([ligne,station,num_station])\n",
    "    Lf=listeMetroCsvStation(\".\\\\data\\\\liste stations fourche1.csv\") #list([ligne,station,num_station])\n",
    "    Linfos=listeMetroCsvInfos(\".\\\\data\\\\infos_metro.csv\") #list([ligne,nb_arrets,temps de trajet, capacité rame])\n",
    "else:\n",
    "    L=listeMetroCsv(\"./data/liste stations.csv\") #list([ligne,station,num_station])\n",
    "    Lex=listeMetroCsvStation(\"./data/liste stations exceptions-fourche2.csv\") #list([ligne,station,num_station])\n",
    "    Lf=listeMetroCsvStation(\"./data/liste stations fourche1.csv\") #list([ligne,station,num_station])\n",
    "    Linfos=listeMetroCsvInfos(\"./data/infos_metro.csv\") #list([ligne,nb_arrets,temps de trajet, capacité rame])\n",
    "\n",
    "\n",
    "print(listage_stations_itineraire(\"PORTE DE VANVES\",\"M13\",\"JUSSIEU\",\"M10\"))"
   ]
  },
  {
   "cell_type": "code",
   "execution_count": null,
   "metadata": {
    "collapsed": false
   },
   "outputs": [],
   "source": [
    "L_M3b=list()\n",
    "for var in L:\n",
    "    if var[0]==\"M3b\":\n",
    "        L_M3b.append(var)\n",
    "print(L_M3b)   "
   ]
  },
  {
   "cell_type": "code",
   "execution_count": null,
   "metadata": {
    "collapsed": false,
    "scrolled": true
   },
   "outputs": [],
   "source": [
    "#paramètres\n",
    "temps_max= 3*4*60 #3 fois * 4 mins * 60 sec\n",
    "nb_utilisateurs = 10\n",
    "nb_metro = 4"
   ]
  },
  {
   "cell_type": "code",
   "execution_count": null,
   "metadata": {
    "collapsed": false
   },
   "outputs": [],
   "source": [
    "def distrib_itineraire(nb_utilisateurs):\n",
    "    base_utilisateurs=[]\n",
    "    for i in range(1,nb_utilisateurs+1,1):\n",
    "        x=0\n",
    "        y=0\n",
    "        while (x==y):\n",
    "            x=dictMetroCsv(L)[\"M3b\"][np.random.choice(len(dictMetroCsv(L)[\"M3b\"]))]\n",
    "            y=dictMetroCsv(L)[\"M3b\"][np.random.choice(len(dictMetroCsv(L)[\"M3b\"]))]\n",
    "        base_utilisateurs.append([i,x,y,x]) #num_utilisateur, depart, arrivee, station actuelle\n",
    "    return base_utilisateurs\n",
    "print(distrib_itineraire(nb_utilisateurs))"
   ]
  },
  {
   "cell_type": "code",
   "execution_count": null,
   "metadata": {
    "collapsed": false
   },
   "outputs": [],
   "source": [
    "def initialisation():\n",
    "    base_utilisateurs=distrib_itineraire(nb_utilisateurs)\n",
    "    base_station_M3b = list()\n",
    "    \n",
    "    for station in L_M3b:\n",
    "        for utilisateur in base_utilisateurs:\n",
    "            if utilisateur[3]==station:\n",
    "                base_station_M3b.append()\n",
    "\n",
    "        \n",
    "    return base_station_M3b\n",
    "print(initialisation())"
   ]
  },
  {
   "cell_type": "code",
   "execution_count": null,
   "metadata": {
    "collapsed": false,
    "scrolled": false
   },
   "outputs": [],
   "source": [
    "def simulation():\n",
    "    time = [0] # liste qui represente le temps \n",
    "    nb_utilisateur_total_M3b = []\n",
    "    nb_utilisateur_station_M3b = dict()\n",
    "    base_metro_M3b=dict()\n",
    "    base_station_M3b, base_utilisateurs=initialisation()\n",
    "    \n",
    "    for station in dictMetroCsv(L)[\"M3b\"]:\n",
    "        base_metro_M3b[station]=[]\n",
    "    \n",
    "    for i in range(1,nb_metro+1,1) :\n",
    "        if i%2!=0:\n",
    "            base_metro_M3b[dictMetroCsv(L)[\"M3b\"][0]].append(i)\n",
    "        elif i%2==0:\n",
    "            base_metro_M3b[dictMetroCsv(L)[\"M3b\"][-1]].append(i)\n",
    "    \n",
    "    for t in range(1,temps_max,1):\n",
    "        if t%180==0 :\n",
    "            if base_metro_M3b[dictMetroCsv(L)[\"M3b\"][0]]!=[] and (base_station_M3b[\"GAMBETTA\"]!=()\n",
    "            \n",
    "            \n",
    "    \n",
    "print(simulation())\n",
    "\n"
   ]
  },
  {
   "cell_type": "code",
   "execution_count": null,
   "metadata": {
    "collapsed": false
   },
   "outputs": [],
   "source": [
    "print(base_utilisateurs)"
   ]
  },
  {
   "cell_type": "code",
   "execution_count": null,
   "metadata": {
    "collapsed": false
   },
   "outputs": [],
   "source": []
  },
  {
   "cell_type": "code",
   "execution_count": null,
   "metadata": {
    "collapsed": true
   },
   "outputs": [],
   "source": []
  }
 ],
 "metadata": {
  "anaconda-cloud": {},
  "kernelspec": {
   "display_name": "Python [default]",
   "language": "python",
   "name": "python3"
  },
  "language_info": {
   "codemirror_mode": {
    "name": "ipython",
    "version": 3
   },
   "file_extension": ".py",
   "mimetype": "text/x-python",
   "name": "python",
   "nbconvert_exporter": "python",
   "pygments_lexer": "ipython3",
   "version": "3.5.2"
  }
 },
 "nbformat": 4,
 "nbformat_minor": 1
}
