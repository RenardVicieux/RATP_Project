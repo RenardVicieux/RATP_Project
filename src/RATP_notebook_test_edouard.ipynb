{
 "cells": [
  {
   "cell_type": "markdown",
   "metadata": {},
   "source": [
    "# ETUDE DYNAMYQUE DES METROS DE PARIS"
   ]
  },
  {
   "cell_type": "markdown",
   "metadata": {
    "collapsed": true
   },
   "source": [
    "## Test simulation Ed ligne M3b"
   ]
  },
  {
   "cell_type": "code",
   "execution_count": 1,
   "metadata": {
    "collapsed": false
   },
   "outputs": [
    {
     "name": "stdout",
     "output_type": "stream",
     "text": [
      "[['PELLEPORT', 'GAMBETTA', 'M3b', 360.0, '574']]\n"
     ]
    }
   ],
   "source": [
    "%matplotlib inline\n",
    "import os\n",
    "import numpy as np\n",
    "from LibMetroIti_NB import *\n",
    "\n",
    "if os.name == 'nt':\n",
    "    L=listeMetroCsv(\".\\\\data\\\\liste stations.csv\") #list([ligne,station,num_station])\n",
    "    Lex=listeMetroCsvStation(\".\\\\data\\\\liste stations exceptions-fourche2.csv\") #list([ligne,station,num_station])\n",
    "    Lf=listeMetroCsvStation(\".\\\\data\\\\liste stations fourche1.csv\") #list([ligne,station,num_station])\n",
    "    Linfos=listeMetroCsvInfos(\".\\\\data\\\\infos_metro.csv\") #list([ligne,nb_arrets,temps de trajet, capacité rame])\n",
    "else:\n",
    "    L=listeMetroCsv(\"./data/liste stations.csv\") #list([ligne,station,num_station])\n",
    "    Lex=listeMetroCsvStation(\"./data/liste stations exceptions-fourche2.csv\") #list([ligne,station,num_station])\n",
    "    Lf=listeMetroCsvStation(\"./data/liste stations fourche1.csv\") #list([ligne,station,num_station])\n",
    "    Linfos=listeMetroCsvInfos(\"./data/infos_metro.csv\") #list([ligne,nb_arrets,temps de trajet, capacité rame])\n",
    "\n",
    "\n",
    "print(listage_stations_itineraire(\"PELLEPORT\",\"M3b\",\"GAMBETTA\",\"M3\"))"
   ]
  },
  {
   "cell_type": "code",
   "execution_count": 2,
   "metadata": {
    "collapsed": false
   },
   "outputs": [
    {
     "name": "stdout",
     "output_type": "stream",
     "text": [
      "[['M3b', 'PORTE DES LILAS', '1'], ['M3b', 'SAINT-FARGEAU', '2'], ['M3b', 'PELLEPORT', '3'], ['M3b', 'GAMBETTA', '4']]\n"
     ]
    }
   ],
   "source": [
    "L_M3b=list()\n",
    "for var in L:\n",
    "    if var[0]==\"M3b\":\n",
    "        L_M3b.append(var)\n",
    "print(L_M3b)   "
   ]
  },
  {
   "cell_type": "code",
   "execution_count": 3,
   "metadata": {
    "collapsed": false,
    "scrolled": true
   },
   "outputs": [],
   "source": [
    "#paramètres\n",
    "temps_max= 3*4*60 #3 fois * 4 mins * 60 sec\n",
    "nb_utilisateurs = 10\n",
    "nb_metro = 4"
   ]
  },
  {
   "cell_type": "code",
   "execution_count": 4,
   "metadata": {
    "collapsed": false
   },
   "outputs": [
    {
     "name": "stdout",
     "output_type": "stream",
     "text": [
      "[[1, 'PELLEPORT', 'M3b', 'GAMBETTA', 'M3b', 'PELLEPORT', 'M3b'], [2, 'GAMBETTA', 'M3', 'PORTE DES LILAS', 'M3b', 'GAMBETTA', 'M3'], [3, 'SAINT-FARGEAU', 'M3b', 'PORTE DES LILAS', 'M3b', 'SAINT-FARGEAU', 'M3b'], [4, 'PORTE DES LILAS', 'M3b', 'SAINT-FARGEAU', 'M3b', 'PORTE DES LILAS', 'M3b'], [5, 'PELLEPORT', 'M3b', 'GAMBETTA', 'M3b', 'PELLEPORT', 'M3b'], [6, 'PELLEPORT', 'M3b', 'GAMBETTA', 'M3b', 'PELLEPORT', 'M3b'], [7, 'PORTE DES LILAS', 'M3b', 'PELLEPORT', 'M3b', 'PORTE DES LILAS', 'M3b'], [8, 'PORTE DES LILAS', 'M3b', 'PELLEPORT', 'M3b', 'PORTE DES LILAS', 'M3b'], [9, 'GAMBETTA', 'M3', 'PORTE DES LILAS', 'M3b', 'GAMBETTA', 'M3'], [10, 'PELLEPORT', 'M3b', 'SAINT-FARGEAU', 'M3b', 'PELLEPORT', 'M3b']]\n"
     ]
    }
   ],
   "source": [
    "def distrib_itineraire(nb_utilisateurs):\n",
    "    base_utilisateurs=[]\n",
    "    for i in range(1,nb_utilisateurs+1,1):\n",
    "        x=0\n",
    "        y=0\n",
    "        while (x==y):\n",
    "            x=L_M3b[np.random.choice(len(L_M3b))][1]\n",
    "            y=L_M3b[np.random.choice(len(L_M3b))][1]\n",
    "        xL,yL=\"\",\"\"\n",
    "        for var in L:\n",
    "            if var[1]==x:\n",
    "                xL=var[0]\n",
    "            elif var[1]==y:\n",
    "                yL=var[0]\n",
    "            elif xL!=\"\" and yL!=\"\":\n",
    "                break\n",
    "        base_utilisateurs.append([i,x,xL,y,yL,x,xL]) #num_utilisateur, depart, arrivee, station actuelle\n",
    "    return base_utilisateurs\n",
    "\n",
    "base_utilisateur=distrib_itineraire(nb_utilisateurs)\n",
    "print(base_utilisateur)"
   ]
  },
  {
   "cell_type": "code",
   "execution_count": 8,
   "metadata": {
    "collapsed": false,
    "scrolled": false
   },
   "outputs": [
    {
     "name": "stdout",
     "output_type": "stream",
     "text": [
      "[['PELLEPORT', 'M3b', 'GAMBETTA', 'M3', 'PELLEPORT', 'M3b', [['PELLEPORT', 'GAMBETTA', 'M3b', 360.0, '574']]]]\n"
     ]
    }
   ],
   "source": [
    "def update_utilisateurs_entrant(nouveaux_utilisateurs, station, ligne):\n",
    "    update_utilisateurs=[]\n",
    "    for i in range(1,nouveaux_utilisateurs+1,1):\n",
    "        x=station\n",
    "        xL=ligne\n",
    "        y=station\n",
    "        while (x==y):\n",
    "            y=L_M3b[np.random.choice(len(L_M3b))][1]\n",
    "        yL=\"\"\n",
    "        for var in L:\n",
    "            if var[1]==y:\n",
    "                yL=var[0]\n",
    "            elif yL!=\"\":\n",
    "                break          \n",
    "        update_utilisateurs.append([x,xL,y,yL,x,xL,listage_stations_itineraire(x,xL,y,yL)]) \n",
    "        #[station_depart,ligne départ,station arrivee, ligne arrivee, station actuelle,\n",
    "        #ligne actuelle,[station-n, station-n+1, ligne,\n",
    "        #temps moyenne d'attente sur la ligne par station en seconde, capacité de la rame de la ligne]]\n",
    "    return update_utilisateurs\n",
    "\n",
    "print(update_utilisateurs_entrant(1, \"PELLEPORT\", \"M3b\"))"
   ]
  },
  {
   "cell_type": "code",
   "execution_count": 37,
   "metadata": {
    "collapsed": false,
    "scrolled": false
   },
   "outputs": [
    {
     "ename": "SyntaxError",
     "evalue": "invalid syntax (<ipython-input-37-78dc9fd952aa>, line 23)",
     "output_type": "error",
     "traceback": [
      "\u001b[0;36m  File \u001b[0;32m\"<ipython-input-37-78dc9fd952aa>\"\u001b[0;36m, line \u001b[0;32m23\u001b[0m\n\u001b[0;31m    print(simulation())\u001b[0m\n\u001b[0m        ^\u001b[0m\n\u001b[0;31mSyntaxError\u001b[0m\u001b[0;31m:\u001b[0m invalid syntax\n"
     ]
    }
   ],
   "source": [
    "def simulation():\n",
    "    time = [0] # liste qui represente le temps \n",
    "    nb_utilisateur_total_M3b = []\n",
    "    nb_utilisateur_station_M3b = dict()\n",
    "    base_metro_M3b=dict()\n",
    "    base_station_M3b, base_utilisateurs=initialisation()\n",
    "    \n",
    "    for station in dictMetroCsv(L)[\"M3b\"]:\n",
    "        base_metro_M3b[station]=[]\n",
    "    \n",
    "    for i in range(1,nb_metro+1,1) :\n",
    "        if i%2!=0:\n",
    "            base_metro_M3b[dictMetroCsv(L)[\"M3b\"][0]].append(i)\n",
    "        elif i%2==0:\n",
    "            base_metro_M3b[dictMetroCsv(L)[\"M3b\"][-1]].append(i)\n",
    "    \n",
    "    for t in range(1,temps_max,1):\n",
    "        if t%180==0 :\n",
    "            if base_metro_M3b[dictMetroCsv(L)[\"M3b\"][0]]!=[] and (base_station_M3b[\"GAMBETTA\"]!=()\n",
    "            \n",
    "            \n",
    "    \n",
    "print(simulation())\n",
    "\n"
   ]
  },
  {
   "cell_type": "code",
   "execution_count": 55,
   "metadata": {
    "collapsed": false
   },
   "outputs": [
    {
     "data": {
      "text/plain": [
       "'JUSSIEU : est la station numéro 23 de la ligne M7.\\nest la station numéro 22 de la ligne M10.\\n'"
      ]
     },
     "execution_count": 55,
     "metadata": {},
     "output_type": "execute_result"
    }
   ],
   "source": [
    "infos_station(\"JUSSIEU\")"
   ]
  },
  {
   "cell_type": "code",
   "execution_count": null,
   "metadata": {
    "collapsed": false
   },
   "outputs": [],
   "source": []
  },
  {
   "cell_type": "code",
   "execution_count": null,
   "metadata": {
    "collapsed": true
   },
   "outputs": [],
   "source": []
  }
 ],
 "metadata": {
  "anaconda-cloud": {},
  "kernelspec": {
   "display_name": "Python [default]",
   "language": "python",
   "name": "python3"
  },
  "language_info": {
   "codemirror_mode": {
    "name": "ipython",
    "version": 3
   },
   "file_extension": ".py",
   "mimetype": "text/x-python",
   "name": "python",
   "nbconvert_exporter": "python",
   "pygments_lexer": "ipython3",
   "version": "3.5.2"
  }
 },
 "nbformat": 4,
 "nbformat_minor": 1
}
